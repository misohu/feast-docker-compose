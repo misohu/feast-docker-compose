{
 "cells": [
  {
   "cell_type": "code",
   "execution_count": null,
   "id": "79616a27-391c-4d5f-9035-7903f75596e3",
   "metadata": {},
   "outputs": [],
   "source": [
    "import pandas as pd\n",
    "from sqlalchemy import create_engine\n",
    "\n",
    "# Step 1: Read the Parquet file\n",
    "parquet_file_path = 'driver_stats.parquet'\n",
    "df = pd.read_parquet(parquet_file_path)\n",
    "\n",
    "# Step 2: Create a connection to the PostgreSQL database\n",
    "db_user = 'feast'\n",
    "db_password = 'feast'\n",
    "db_host = 'localhost'  # Or the IP address if running the container on another machine\n",
    "db_port = '5432'\n",
    "db_name = 'feast_offline'\n",
    "\n",
    "engine = create_engine(f'postgresql://{db_user}:{db_password}@{db_host}:{db_port}/{db_name}')\n",
    "\n",
    "# Step 3: Write the DataFrame to PostgreSQL\n",
    "table_name = 'driver_stats'  # Specify the name of the table in the database\n",
    "df.to_sql(table_name, engine, if_exists='replace', index=False)\n",
    "\n",
    "print(f\"Data from {parquet_file_path} has been loaded into the {table_name} table in the {db_name} database.\")"
   ]
  },
  {
   "cell_type": "code",
   "execution_count": null,
   "id": "a71c8e81-9115-45fa-bc75-ccf3496375fc",
   "metadata": {},
   "outputs": [],
   "source": []
  }
 ],
 "metadata": {
  "kernelspec": {
   "display_name": "Python 3 (ipykernel)",
   "language": "python",
   "name": "python3"
  },
  "language_info": {
   "codemirror_mode": {
    "name": "ipython",
    "version": 3
   },
   "file_extension": ".py",
   "mimetype": "text/x-python",
   "name": "python",
   "nbconvert_exporter": "python",
   "pygments_lexer": "ipython3",
   "version": "3.10.14"
  }
 },
 "nbformat": 4,
 "nbformat_minor": 5
}
